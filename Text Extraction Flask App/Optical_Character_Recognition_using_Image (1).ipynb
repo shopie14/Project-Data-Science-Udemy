{
  "cells": [
    {
      "cell_type": "markdown",
      "metadata": {
        "id": "uoUL1t1HPDu8"
      },
      "source": [
        "![image.png](data:image/png;base64,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)"
      ]
    },
    {
      "cell_type": "markdown",
      "metadata": {
        "id": "IfZZ_FCrsG4O"
      },
      "source": [
        "In this project, we will be working on extracting text from images. After extracting the text we will apply some basic functions of OpenCV on that text to enhance it and to get more accurate results. This project will be very useful as it will save time and effort of typing from an image."
      ]
    },
    {
      "cell_type": "code",
      "execution_count": 2,
      "metadata": {
        "id": "VWiRKccU-hdo"
      },
      "outputs": [],
      "source": [
        "#import requests to install tesseract\n",
        "import requests  "
      ]
    },
    {
      "cell_type": "markdown",
      "metadata": {
        "id": "Knit4M4CuuzP"
      },
      "source": [
        "We will importing request library for fetching the url for git files and images.\n"
      ]
    },
    {
      "cell_type": "code",
      "execution_count": 4,
      "metadata": {
        "id": "nK745YIFWAN9"
      },
      "outputs": [
        {
          "ename": "FileNotFoundError",
          "evalue": "[Errno 2] No such file or directory: '/usr/share/tesseract-ocr/4.00/tessdata/ind.traineddata'",
          "output_type": "error",
          "traceback": [
            "\u001b[1;31m---------------------------------------------------------------------------\u001b[0m",
            "\u001b[1;31mFileNotFoundError\u001b[0m                         Traceback (most recent call last)",
            "\u001b[1;32md:\\PYTHON PROGRAMMING\\Build 60 Porject Portofolio Data Science\\Text Extraction Flask App\\Optical_Character_Recognition_using_Image (1).ipynb Cell 5\u001b[0m in \u001b[0;36m<cell line: 5>\u001b[1;34m()\u001b[0m\n\u001b[0;32m      <a href='vscode-notebook-cell:/d%3A/PYTHON%20PROGRAMMING/Build%2060%20Porject%20Portofolio%20Data%20Science/Text%20Extraction%20Flask%20App/Optical_Character_Recognition_using_Image%20%281%29.ipynb#ch0000004?line=1'>2</a>\u001b[0m r \u001b[39m=\u001b[39m requests\u001b[39m.\u001b[39mget(\u001b[39m\"\u001b[39m\u001b[39mhttps://raw.githubusercontent.com/tesseract-ocr/tessdata/4.00/ind.traineddata\u001b[39m\u001b[39m\"\u001b[39m, stream \u001b[39m=\u001b[39m \u001b[39mTrue\u001b[39;00m)  \n\u001b[0;32m      <a href='vscode-notebook-cell:/d%3A/PYTHON%20PROGRAMMING/Build%2060%20Porject%20Portofolio%20Data%20Science/Text%20Extraction%20Flask%20App/Optical_Character_Recognition_using_Image%20%281%29.ipynb#ch0000004?line=3'>4</a>\u001b[0m \u001b[39m# Writing data to file to avoid path isuues\u001b[39;00m\n\u001b[1;32m----> <a href='vscode-notebook-cell:/d%3A/PYTHON%20PROGRAMMING/Build%2060%20Porject%20Portofolio%20Data%20Science/Text%20Extraction%20Flask%20App/Optical_Character_Recognition_using_Image%20%281%29.ipynb#ch0000004?line=4'>5</a>\u001b[0m \u001b[39mwith\u001b[39;00m \u001b[39mopen\u001b[39;49m(\u001b[39m\"\u001b[39;49m\u001b[39m/usr/share/tesseract-ocr/4.00/tessdata/ind.traineddata\u001b[39;49m\u001b[39m\"\u001b[39;49m, \u001b[39m\"\u001b[39;49m\u001b[39mwb\u001b[39;49m\u001b[39m\"\u001b[39;49m) \u001b[39mas\u001b[39;00m file:  \n\u001b[0;32m      <a href='vscode-notebook-cell:/d%3A/PYTHON%20PROGRAMMING/Build%2060%20Porject%20Portofolio%20Data%20Science/Text%20Extraction%20Flask%20App/Optical_Character_Recognition_using_Image%20%281%29.ipynb#ch0000004?line=5'>6</a>\u001b[0m     \u001b[39mfor\u001b[39;00m block \u001b[39min\u001b[39;00m r\u001b[39m.\u001b[39miter_content(chunk_size \u001b[39m=\u001b[39m \u001b[39m1024\u001b[39m): \n\u001b[0;32m      <a href='vscode-notebook-cell:/d%3A/PYTHON%20PROGRAMMING/Build%2060%20Porject%20Portofolio%20Data%20Science/Text%20Extraction%20Flask%20App/Optical_Character_Recognition_using_Image%20%281%29.ipynb#ch0000004?line=6'>7</a>\u001b[0m         \u001b[39mif\u001b[39;00m block:  \n",
            "\u001b[1;31mFileNotFoundError\u001b[0m: [Errno 2] No such file or directory: '/usr/share/tesseract-ocr/4.00/tessdata/ind.traineddata'"
          ]
        }
      ],
      "source": [
        "# Downloading tesseract-ocr file\n",
        "r = requests.get(\"https://raw.githubusercontent.com/tesseract-ocr/tessdata/4.00/ind.traineddata\", stream = True)  \n",
        "  \n",
        "# Writing data to file to avoid path isuues\n",
        "with open(\"/usr/share/tesseract-ocr/4.00/tessdata/ind.traineddata\", \"wb\") as file:  \n",
        "    for block in r.iter_content(chunk_size = 1024): \n",
        "        if block:  \n",
        "            file.write(block)"
      ]
    },
    {
      "cell_type": "markdown",
      "metadata": {
        "id": "oRo-KqacvDMT"
      },
      "source": [
        "We will now download tesseract which is required for pytesseract library to run and save the file at the path in open() function."
      ]
    },
    {
      "cell_type": "code",
      "execution_count": null,
      "metadata": {
        "id": "27xb7Dxk8Xlq"
      },
      "outputs": [],
      "source": [
        "# Installing libraries required for optical character recognition\n",
        "! apt install tesseract-ocr libtesseract-dev libmagickwand-dev\n",
        "\n",
        "# Importing IPython to clear output which is not important \n",
        "from IPython.display import HTML, clear_output\n",
        "clear_output()"
      ]
    },
    {
      "cell_type": "markdown",
      "metadata": {
        "id": "Fd1K_HKRveEK"
      },
      "source": [
        "In this step we will install the required libraries for ocr and we will also import IPython fucntions to clear the undesired."
      ]
    },
    {
      "cell_type": "code",
      "execution_count": null,
      "metadata": {
        "id": "S0JWmbpG8f4p"
      },
      "outputs": [],
      "source": [
        "# Installing pytesseract and opencv\n",
        "! pip install pytesseract wand opencv-python\n",
        "clear_output()"
      ]
    },
    {
      "cell_type": "markdown",
      "metadata": {
        "id": "vhz1mgEQvy81"
      },
      "source": [
        "Now we will install pytesseract and opencv libraries."
      ]
    },
    {
      "cell_type": "code",
      "execution_count": 6,
      "metadata": {
        "id": "IcZaJ7m68mbD"
      },
      "outputs": [
        {
          "ename": "ModuleNotFoundError",
          "evalue": "No module named 'pytesseract'",
          "output_type": "error",
          "traceback": [
            "\u001b[1;31m---------------------------------------------------------------------------\u001b[0m",
            "\u001b[1;31mModuleNotFoundError\u001b[0m                       Traceback (most recent call last)",
            "\u001b[1;32md:\\PYTHON PROGRAMMING\\Build 60 Porject Portofolio Data Science\\Text Extraction Flask App\\Optical_Character_Recognition_using_Image (1).ipynb Cell 11\u001b[0m in \u001b[0;36m<cell line: 3>\u001b[1;34m()\u001b[0m\n\u001b[0;32m      <a href='vscode-notebook-cell:/d%3A/PYTHON%20PROGRAMMING/Build%2060%20Porject%20Portofolio%20Data%20Science/Text%20Extraction%20Flask%20App/Optical_Character_Recognition_using_Image%20%281%29.ipynb#ch0000010?line=0'>1</a>\u001b[0m \u001b[39m# Import libraries\u001b[39;00m\n\u001b[0;32m      <a href='vscode-notebook-cell:/d%3A/PYTHON%20PROGRAMMING/Build%2060%20Porject%20Portofolio%20Data%20Science/Text%20Extraction%20Flask%20App/Optical_Character_Recognition_using_Image%20%281%29.ipynb#ch0000010?line=1'>2</a>\u001b[0m \u001b[39mfrom\u001b[39;00m \u001b[39mPIL\u001b[39;00m \u001b[39mimport\u001b[39;00m Image\n\u001b[1;32m----> <a href='vscode-notebook-cell:/d%3A/PYTHON%20PROGRAMMING/Build%2060%20Porject%20Portofolio%20Data%20Science/Text%20Extraction%20Flask%20App/Optical_Character_Recognition_using_Image%20%281%29.ipynb#ch0000010?line=2'>3</a>\u001b[0m \u001b[39mimport\u001b[39;00m \u001b[39mpytesseract\u001b[39;00m\n\u001b[0;32m      <a href='vscode-notebook-cell:/d%3A/PYTHON%20PROGRAMMING/Build%2060%20Porject%20Portofolio%20Data%20Science/Text%20Extraction%20Flask%20App/Optical_Character_Recognition_using_Image%20%281%29.ipynb#ch0000010?line=3'>4</a>\u001b[0m \u001b[39mimport\u001b[39;00m \u001b[39mcv2\u001b[39;00m\n\u001b[0;32m      <a href='vscode-notebook-cell:/d%3A/PYTHON%20PROGRAMMING/Build%2060%20Porject%20Portofolio%20Data%20Science/Text%20Extraction%20Flask%20App/Optical_Character_Recognition_using_Image%20%281%29.ipynb#ch0000010?line=4'>5</a>\u001b[0m \u001b[39mimport\u001b[39;00m \u001b[39mnumpy\u001b[39;00m \u001b[39mas\u001b[39;00m \u001b[39mnp\u001b[39;00m\n",
            "\u001b[1;31mModuleNotFoundError\u001b[0m: No module named 'pytesseract'"
          ]
        }
      ],
      "source": [
        "# Import libraries\n",
        "from PIL import Image\n",
        "import pytesseract\n",
        "import cv2\n",
        "import numpy as np\n",
        "from pytesseract import Output\n",
        "import re\n"
      ]
    },
    {
      "cell_type": "markdown",
      "metadata": {
        "id": "mNzT7Qp4v-hE"
      },
      "source": [
        "Importing required libraries"
      ]
    },
    {
      "cell_type": "code",
      "execution_count": 1,
      "metadata": {
        "colab": {
          "base_uri": "https://localhost:8080/",
          "height": 167
        },
        "id": "ddQuOg6WSQ0O",
        "outputId": "7a29fd3a-8a7b-4b79-ab97-abb305a7aad5"
      },
      "outputs": [
        {
          "ename": "NameError",
          "evalue": "name 'Image' is not defined",
          "output_type": "error",
          "traceback": [
            "\u001b[1;31m---------------------------------------------------------------------------\u001b[0m",
            "\u001b[1;31mNameError\u001b[0m                                 Traceback (most recent call last)",
            "\u001b[1;32md:\\PYTHON PROGRAMMING\\Build 60 Porject Portofolio Data Science\\Text Extraction Flask App\\Optical_Character_Recognition_using_Image (1).ipynb Cell 13\u001b[0m in \u001b[0;36m<cell line: 2>\u001b[1;34m()\u001b[0m\n\u001b[0;32m      <a href='vscode-notebook-cell:/d%3A/PYTHON%20PROGRAMMING/Build%2060%20Porject%20Portofolio%20Data%20Science/Text%20Extraction%20Flask%20App/Optical_Character_Recognition_using_Image%20%281%29.ipynb#ch0000012?line=0'>1</a>\u001b[0m \u001b[39m# Reading image form url\u001b[39;00m\n\u001b[1;32m----> <a href='vscode-notebook-cell:/d%3A/PYTHON%20PROGRAMMING/Build%2060%20Porject%20Portofolio%20Data%20Science/Text%20Extraction%20Flask%20App/Optical_Character_Recognition_using_Image%20%281%29.ipynb#ch0000012?line=1'>2</a>\u001b[0m image \u001b[39m=\u001b[39m Image\u001b[39m.\u001b[39mopen(requests\u001b[39m.\u001b[39mget(\u001b[39m'\u001b[39m\u001b[39mhttps://i.stack.imgur.com/pbIdS.png\u001b[39m\u001b[39m'\u001b[39m, stream\u001b[39m=\u001b[39m\u001b[39mTrue\u001b[39;00m)\u001b[39m.\u001b[39mraw)\n\u001b[0;32m      <a href='vscode-notebook-cell:/d%3A/PYTHON%20PROGRAMMING/Build%2060%20Porject%20Portofolio%20Data%20Science/Text%20Extraction%20Flask%20App/Optical_Character_Recognition_using_Image%20%281%29.ipynb#ch0000012?line=2'>3</a>\u001b[0m image \u001b[39m=\u001b[39m image\u001b[39m.\u001b[39mresize((\u001b[39m300\u001b[39m,\u001b[39m150\u001b[39m))\n\u001b[0;32m      <a href='vscode-notebook-cell:/d%3A/PYTHON%20PROGRAMMING/Build%2060%20Porject%20Portofolio%20Data%20Science/Text%20Extraction%20Flask%20App/Optical_Character_Recognition_using_Image%20%281%29.ipynb#ch0000012?line=3'>4</a>\u001b[0m image\u001b[39m.\u001b[39msave(\u001b[39m'\u001b[39m\u001b[39msample.png\u001b[39m\u001b[39m'\u001b[39m)\n",
            "\u001b[1;31mNameError\u001b[0m: name 'Image' is not defined"
          ]
        }
      ],
      "source": [
        "# Reading image form url\n",
        "image = Image.open(requests.get('https://i.stack.imgur.com/pbIdS.png', stream=True).raw)\n",
        "image = image.resize((300,150))\n",
        "image.save('sample.png')\n",
        "image"
      ]
    },
    {
      "cell_type": "markdown",
      "metadata": {
        "id": "cFLMRAxzwCax"
      },
      "source": [
        "In this step we will, open an image resize it and then again save it for further use and visualize it."
      ]
    },
    {
      "cell_type": "code",
      "execution_count": null,
      "metadata": {
        "colab": {
          "base_uri": "https://localhost:8080/"
        },
        "id": "S9dB9nMw82jY",
        "outputId": "cae00784-5e41-413b-eec7-f63ff7bbd351"
      },
      "outputs": [
        {
          "name": "stdout",
          "output_type": "stream",
          "text": [
            "Normal text and bold text\n",
            "\n",
            "Italic text and bold italic text\n",
            "\n",
            "Normal text and artificially bold text\n",
            "Artificially outlined text\n",
            "\n",
            "Artificially italic text and bold italic text\n",
            "\f\n"
          ]
        }
      ],
      "source": [
        "# Simply extracting text from image \n",
        "custom_config = r'-l eng --oem 3 --psm 6' \n",
        "text = pytesseract.image_to_string(image,config=custom_config)\n",
        "print(text)"
      ]
    },
    {
      "cell_type": "markdown",
      "metadata": {
        "id": "yGhitjxJwQCN"
      },
      "source": [
        "Here we will be extracting the text from image with custom configuration."
      ]
    },
    {
      "cell_type": "code",
      "execution_count": null,
      "metadata": {
        "colab": {
          "base_uri": "https://localhost:8080/"
        },
        "id": "hkyQcR4S8rud",
        "outputId": "9fa301fe-00d5-4baa-f66a-9f8daafda2c5"
      },
      "outputs": [
        {
          "name": "stdout",
          "output_type": "stream",
          "text": [
            " \n",
            "\n",
            " \n",
            "\n",
            "Normal text and bold text\n",
            "\n",
            "Italic text and bold italic text\n",
            "\n",
            "Normal text and artificially bold text\n",
            "Artificially outlined text\n",
            "\n",
            "Artificially italic text and bold italic text\n",
            "\n",
            " \n",
            "\n",
            " \n",
            "\f\n"
          ]
        }
      ],
      "source": [
        "# Extracting text from image and removing irrelevant symbols from characters\n",
        "try:\n",
        "  text=pytesseract.image_to_string(image,lang=\"eng\")\n",
        "  characters_to_remove = \"!()@—*“>+-/,'|£#%$&^_~\"\n",
        "  new_string = text\n",
        "  for character in characters_to_remove:\n",
        "    new_string = new_string.replace(character, \"\")\n",
        "  print(new_string)\n",
        "except IOError as e:\n",
        "    print(\"Error (%s).\" % e)"
      ]
    },
    {
      "cell_type": "markdown",
      "metadata": {
        "id": "NPMVQf0XwxTV"
      },
      "source": [
        "Now we will remove unwanted symbols from the text we extracted by replacing the symbol with an empty string."
      ]
    },
    {
      "cell_type": "code",
      "execution_count": null,
      "metadata": {
        "id": "fZeJlPbHNbmM"
      },
      "outputs": [],
      "source": [
        "# Now we will perform opencv operations to get text from complex images\n",
        "image = cv2.imread('sample.png')"
      ]
    },
    {
      "cell_type": "markdown",
      "metadata": {
        "id": "rD30NI1mxVFF"
      },
      "source": [
        "In above cell, we are reading the image into opencv format to process it further. This is required when we need to extract the text from complex images."
      ]
    },
    {
      "cell_type": "code",
      "execution_count": null,
      "metadata": {
        "id": "mwil8wnzNfKD"
      },
      "outputs": [],
      "source": [
        "# get grayscale image\n",
        "def get_grayscale(image):\n",
        "    return cv2.cvtColor(image, cv2.COLOR_BGR2GRAY)\n",
        "gray = get_grayscale(image)\n",
        "Image.fromarray(gray)"
      ]
    },
    {
      "cell_type": "markdown",
      "metadata": {
        "id": "7it5Vy-qxtw_"
      },
      "source": [
        "Converting the images to grayscale so that it becomes less complex to process as it will have only two values 0 and 1. cv2.cvtColor() method is used to convert an image from one color space to another. There are more than 150 color-space conversion methods available in OpenCV."
      ]
    },
    {
      "cell_type": "code",
      "execution_count": null,
      "metadata": {
        "id": "HTmZDzgJNfM4"
      },
      "outputs": [],
      "source": [
        "# noise removal\n",
        "def remove_noise(image):\n",
        "    return cv2.medianBlur(image,5)\n",
        "noise = remove_noise(gray)\n",
        "Image.fromarray(gray)"
      ]
    },
    {
      "cell_type": "markdown",
      "metadata": {
        "id": "OVNtI867yF75"
      },
      "source": [
        "Now we will blur the image so that we can remove the noise from the image. Here, the function cv2.medianBlur() computes the median of all the pixels under the kernel window and the central pixel is replaced with this median value. This is highly effective in removing noise."
      ]
    },
    {
      "cell_type": "code",
      "execution_count": null,
      "metadata": {
        "id": "Jf6bFQo8OSFW"
      },
      "outputs": [],
      "source": [
        "#thresholding\n",
        "def thresholding(image):\n",
        "    return cv2.threshold(image, 0, 255, cv2.THRESH_BINARY + cv2.THRESH_OTSU)[1]\n",
        "thresh = thresholding(gray)\n",
        "Image.fromarray(thresh)"
      ]
    },
    {
      "cell_type": "markdown",
      "metadata": {
        "id": "kXdi8EQAyfsG"
      },
      "source": [
        "We will perform threshold transformation here. \n",
        "cv2. If pixel value is greater than a threshold value, it is assigned one value (may be white), else it is assigned another value (may be black). The function used is cv2.threshold. First argument is the source image, which should be a grayscale image.\n"
      ]
    },
    {
      "cell_type": "code",
      "execution_count": null,
      "metadata": {
        "id": "CItQhwf0OlZH"
      },
      "outputs": [],
      "source": [
        "#erosion\n",
        "def erode(image):\n",
        "    kernel = np.ones((5,5),np.uint8)\n",
        "    return cv2.erode(image, kernel, iterations = 1)\n",
        "erode = erode(gray)\n",
        "Image.fromarray(erode)"
      ]
    },
    {
      "cell_type": "markdown",
      "metadata": {
        "id": "R0Q9LXjxK_J_"
      },
      "source": [
        "Here we are doing erode transformation. \n",
        "cv2.erode() method is used to perform erosion on the image. The basic idea of erosion is just like soil erosion only, it erodes away the boundaries of foreground object (Always try to keep foreground in white). It is normally performed on binary images. It needs two inputs, one is our original image, second one is called structuring element or kernel which decides the nature of operation."
      ]
    },
    {
      "cell_type": "code",
      "execution_count": null,
      "metadata": {
        "id": "jFBP1MzaOpgg"
      },
      "outputs": [],
      "source": [
        "#Morphology\n",
        "def opening(image):\n",
        "    kernel = np.ones((5,5),np.uint8)\n",
        "    return cv2.morphologyEx(image, cv2.MORPH_OPEN, kernel)\n",
        "opening = opening(gray)\n",
        "Image.fromarray(opening)"
      ]
    },
    {
      "cell_type": "markdown",
      "metadata": {
        "id": "LvGTm87LLb4Y"
      },
      "source": [
        "Here we will perform morphological trandformation. It is useful in opening small holes inside the foreground objects, or small white points on the object."
      ]
    },
    {
      "cell_type": "code",
      "execution_count": null,
      "metadata": {
        "id": "8UCEPg6vOpje"
      },
      "outputs": [],
      "source": [
        "#canny edge detection\n",
        "def canny(image):\n",
        "    return cv2.Canny(image, 100, 200)\n",
        "canny = canny(gray)\n",
        "Image.fromarray(canny)"
      ]
    },
    {
      "cell_type": "markdown",
      "metadata": {
        "id": "T8Wttdq6MVWn"
      },
      "source": [
        "Canny transformation is used to detect egdes in the image."
      ]
    },
    {
      "cell_type": "code",
      "execution_count": null,
      "metadata": {
        "id": "Mi-ulaT79GXP"
      },
      "outputs": [],
      "source": [
        "#skew correction\n",
        "def deskew(image):\n",
        "    coords = np.column_stack(np.where(image > 0))\n",
        "    angle = cv2.minAreaRect(coords)[-1]\n",
        "    if angle < -45:\n",
        "        angle = -(90 + angle)\n",
        "    else:\n",
        "        angle = -angle\n",
        "    (h, w) = image.shape[:2]\n",
        "    center = (w // 2, h // 2)\n",
        "    M = cv2.getRotationMatrix2D(center, angle, 1.0)\n",
        "    rotated = cv2.warpAffine(image, M, (w, h), flags=cv2.INTER_CUBIC, borderMode=cv2.BORDER_REPLICATE)\n",
        "    return rotated\n",
        "rotated = deskew(gray)\n",
        "Image.fromarray(rotated)"
      ]
    },
    {
      "cell_type": "markdown",
      "metadata": {
        "id": "-CvFxN_WM4wE"
      },
      "source": [
        "Now we will apply deskewing on the image. Deskewing is a process whereby skew is removed by rotating an image by the same amount as its skew but in the opposite direction. This results in a horizontally and vertically aligned image where the text runs across the page rather than at an angle."
      ]
    },
    {
      "cell_type": "code",
      "execution_count": null,
      "metadata": {
        "id": "RDyM-9xtOu4t"
      },
      "outputs": [],
      "source": [
        "#template matching\n",
        "def match_template(image, template):\n",
        "    return cv2.matchTemplate(image, template, cv2.TM_CCOEFF_NORMED)\n",
        "match = match_template(gray, gray)\n",
        "match"
      ]
    },
    {
      "cell_type": "markdown",
      "metadata": {
        "id": "5ntvKPVzNcRl"
      },
      "source": [
        "Here we are trying to match the image. As we are passing same image for matching we got the similarity of 99.99%. Here, template matching is a method for searching and finding the location of a template image in a larger image. OpenCV comes with a function cv2.matchTemplate() for this purpose. It simply slides the template image over the input image (as in 2D convolution) and compares the template and patch of input image under the template image.  "
      ]
    },
    {
      "cell_type": "code",
      "execution_count": null,
      "metadata": {
        "id": "9lkyCo7vLA-K"
      },
      "outputs": [],
      "source": [
        "# Drawing rectangle around text\n",
        "img = cv2.imread('sample.png')\n",
        "h, w, c = img.shape\n",
        "boxes = pytesseract.image_to_boxes(img) \n",
        "for b in boxes.splitlines():\n",
        "    b = b.split(' ')\n",
        "    img = cv2.rectangle(img, (int(b[1]), h - int(b[2])), (int(b[3]), h - int(b[4])), (0, 255, 0), 2)\n",
        "Image.fromarray(img)"
      ]
    },
    {
      "cell_type": "markdown",
      "metadata": {
        "id": "Vckm12_Ry_FR"
      },
      "source": [
        "Now we will segregate every character in the text by creating a rectangle around it."
      ]
    },
    {
      "cell_type": "code",
      "execution_count": null,
      "metadata": {
        "id": "qLOnR80ZMKff"
      },
      "outputs": [],
      "source": [
        "# Drawing pattern on specific pattern or word\n",
        "img = cv2.imread('sample.png')\n",
        "d = pytesseract.image_to_data(img, output_type=Output.DICT)\n",
        "keys = list(d.keys())\n",
        "\n",
        "date_pattern = 'artificially'\n",
        "\n",
        "n_boxes = len(d['text'])\n",
        "for i in range(n_boxes):\n",
        "    if int(d['conf'][i]) > 60:\n",
        "    \tif re.match(date_pattern, d['text'][i]):\n",
        "\t        (x, y, w, h) = (d['left'][i], d['top'][i], d['width'][i], d['height'][i])\n",
        "\t        img = cv2.rectangle(img, (x, y), (x + w, y + h), (0, 255, 0), 2)\n",
        "Image.fromarray(img)"
      ]
    },
    {
      "cell_type": "markdown",
      "metadata": {
        "id": "vbNP1Uw0zbrN"
      },
      "source": [
        "Similarly we can draw rectangle around the specific pattern or word."
      ]
    },
    {
      "cell_type": "markdown",
      "metadata": {
        "id": "5TGVRpZFzk3v"
      },
      "source": [
        "# Conclusion:"
      ]
    },
    {
      "cell_type": "markdown",
      "metadata": {
        "id": "FgnHlCurzqFy"
      },
      "source": [
        "We started with learning how to install tesseract which is the used for text extraction. Next we took an image and extracted the text from that image. We learned that we need to use certain image transformation function of OpenCV in order to extract text from complex images.\n"
      ]
    },
    {
      "cell_type": "markdown",
      "metadata": {
        "id": "SKG4Kah90cBm"
      },
      "source": [
        "## Scope:"
      ]
    },
    {
      "cell_type": "markdown",
      "metadata": {
        "id": "0DYpV9Ap0mu5"
      },
      "source": [
        "Different organization can use this to extract useful information from the image and store it. Individuals can use it for saving their time and effort for typing."
      ]
    },
    {
      "cell_type": "code",
      "execution_count": null,
      "metadata": {
        "id": "YKKGkqUQzoVH"
      },
      "outputs": [],
      "source": []
    }
  ],
  "metadata": {
    "colab": {
      "collapsed_sections": [],
      "name": "Optical_Character_Recognition_using_Image.ipynb",
      "provenance": []
    },
    "kernelspec": {
      "display_name": "Python 3.10.3 64-bit",
      "language": "python",
      "name": "python3"
    },
    "language_info": {
      "codemirror_mode": {
        "name": "ipython",
        "version": 3
      },
      "file_extension": ".py",
      "mimetype": "text/x-python",
      "name": "python",
      "nbconvert_exporter": "python",
      "pygments_lexer": "ipython3",
      "version": "3.10.3"
    },
    "vscode": {
      "interpreter": {
        "hash": "0eac48ad140b3dcf4b7827198cd3c96eeaba2ee3d97d44a98aff39cd02692f6b"
      }
    }
  },
  "nbformat": 4,
  "nbformat_minor": 0
}
